{
 "cells": [
  {
   "cell_type": "markdown",
   "id": "abdec2e9",
   "metadata": {},
   "source": [
    "# Send the Words To Mirror Dimension\n",
    "Write a Python program that accepts a word from the user and reverse it.\n",
    "---\n",
    "\n",
    "\n",
    "\n",
    "Sample Test Case\n",
    "\n",
    "\n",
    "\n",
    "Input : Edyoda\n",
    "\n",
    "output: adoydE"
   ]
  },
  {
   "cell_type": "code",
   "execution_count": 8,
   "id": "ee1c54c8",
   "metadata": {},
   "outputs": [
    {
     "name": "stdout",
     "output_type": "stream",
     "text": [
      "Enter a StringEdyoda\n",
      "adoydE\n"
     ]
    }
   ],
   "source": [
    "a = input(\"Enter a String\")\n",
    "mirrored = \"\"\n",
    "for ch in a:\n",
    "    mirrored = ch + mirrored\n",
    "print(mirrored)    "
   ]
  },
  {
   "cell_type": "code",
   "execution_count": null,
   "id": "36c19f8e",
   "metadata": {},
   "outputs": [],
   "source": []
  }
 ],
 "metadata": {
  "kernelspec": {
   "display_name": "Python 3 (ipykernel)",
   "language": "python",
   "name": "python3"
  },
  "language_info": {
   "codemirror_mode": {
    "name": "ipython",
    "version": 3
   },
   "file_extension": ".py",
   "mimetype": "text/x-python",
   "name": "python",
   "nbconvert_exporter": "python",
   "pygments_lexer": "ipython3",
   "version": "3.9.7"
  }
 },
 "nbformat": 4,
 "nbformat_minor": 5
}
