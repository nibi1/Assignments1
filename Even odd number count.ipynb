{
 "cells": [
  {
   "cell_type": "markdown",
   "id": "6f7ddd61",
   "metadata": {},
   "source": [
    "# Don't go Outside in Odd day\n",
    "\n",
    "Write a Python program to count the number of even and odd numbers from a series of numbers.\n",
    "---\n",
    "\n",
    "\n",
    "Sample numbers : numbers = (1, 2, 3, 4, 5, 6, 7, 8, 9) \n",
    "\n",
    "Expected Output :\n",
    "\n",
    "Number of even numbers : 5\n",
    "\n",
    "Number of odd numbers : 4"
   ]
  },
  {
   "cell_type": "code",
   "execution_count": 2,
   "id": "3f47f195",
   "metadata": {},
   "outputs": [
    {
     "name": "stdout",
     "output_type": "stream",
     "text": [
      "6\n",
      "6\n",
      "6\n",
      "6\n",
      "7\n",
      "4\n",
      "3\n",
      "Number of even numbers : 4\n",
      "Number of Odd numbers : 2\n"
     ]
    }
   ],
   "source": [
    "numbers = []\n",
    "count_even = 0\n",
    "count_odd = 0\n",
    "for i in range(int(input())):\n",
    "    numbers.append(int(input()))\n",
    "    if numbers[i] % 2 == 0:\n",
    "        count_even +=1\n",
    "    else:\n",
    "        count_odd += 1\n",
    "print(\"Number of even numbers :\",count_even)\n",
    "print(\"Number of Odd numbers :\",count_odd)\n",
    "        \n",
    "    "
   ]
  },
  {
   "cell_type": "code",
   "execution_count": null,
   "id": "34c54dd2",
   "metadata": {},
   "outputs": [],
   "source": []
  }
 ],
 "metadata": {
  "kernelspec": {
   "display_name": "Python 3 (ipykernel)",
   "language": "python",
   "name": "python3"
  },
  "language_info": {
   "codemirror_mode": {
    "name": "ipython",
    "version": 3
   },
   "file_extension": ".py",
   "mimetype": "text/x-python",
   "name": "python",
   "nbconvert_exporter": "python",
   "pygments_lexer": "ipython3",
   "version": "3.9.7"
  }
 },
 "nbformat": 4,
 "nbformat_minor": 5
}
